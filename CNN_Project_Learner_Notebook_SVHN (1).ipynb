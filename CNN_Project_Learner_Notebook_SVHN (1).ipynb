{
  "cells": [
    {
      "cell_type": "markdown",
      "metadata": {
        "id": "Q91KqmCRu64D"
      },
      "source": [
        "# **Project - Convolutional Neural Networks: Street View Housing Number Digit Recognition**\n",
        "\n",
        "# Marks: 30\n",
        "\n",
        "Welcome to the project on classification using Convolutional Neural Networks. We will continue to work with the Street View Housing Numbers (SVHN) image dataset for this project.\n",
        "\n",
        "--------------\n",
        "### **Context:** \n",
        "--------------\n",
        "\n",
        "One of the most interesting tasks in deep learning is to recognize objects in natural scenes. The ability to process visual information using machine learning algorithms can be very useful as demonstrated in various applications.\n",
        "\n",
        "The SVHN dataset contains over 600,000 labeled digits cropped from street-level photos. It is one of the most popular image recognition datasets. It has been used in neural networks created by Google to improve map quality by automatically transcribing the address numbers from a patch of pixels. The transcribed number with a known street address helps pinpoint the location of the building it represents. \n",
        "\n",
        "----------------\n",
        "### **Objective:**\n",
        "----------------\n",
        "\n",
        "Build a CNN model that can identify the digits in the images.\n",
        "\n",
        "-------------\n",
        "### **Dataset**\n",
        "-------------\n",
        "Here, we will use a subset of the original data to save some computation time. The dataset is provided as a .h5 file. The basic preprocessing steps have been done."
      ]
    },
    {
      "cell_type": "markdown",
      "metadata": {
        "id": "8z2Z7-OAs8QG"
      },
      "source": [
        "## **Mount the drive**\n",
        "Let us start by mounting the drive and importing the necessary libraries."
      ]
    },
    {
      "cell_type": "code",
      "execution_count": 1,
      "metadata": {
        "colab": {
          "base_uri": "https://localhost:8080/"
        },
        "id": "03lDyQUuef7z",
        "outputId": "cd6b17e4-d4a8-4513-e603-8d8943a1cfdf"
      },
      "outputs": [
        {
          "output_type": "stream",
          "name": "stdout",
          "text": [
            "Drive already mounted at /content/drive; to attempt to forcibly remount, call drive.mount(\"/content/drive\", force_remount=True).\n"
          ]
        }
      ],
      "source": [
        "from google.colab import drive\n",
        "drive.mount('/content/drive')"
      ]
    },
    {
      "cell_type": "markdown",
      "metadata": {
        "id": "C8U3DUa3eNsT"
      },
      "source": [
        "## **Importing libraries**"
      ]
    },
    {
      "cell_type": "code",
      "execution_count": 2,
      "metadata": {
        "id": "-dVzeuF3eQx1"
      },
      "outputs": [],
      "source": [
        "import numpy as np\n",
        "import pandas as pd\n",
        "import matplotlib.pyplot as plt\n",
        "import seaborn as sns\n",
        "\n",
        "from sklearn.model_selection import train_test_split\n",
        "from sklearn.preprocessing import MinMaxScaler\n",
        "\n",
        "import tensorflow as tf\n",
        "from tensorflow.keras.models import Sequential\n",
        "from tensorflow.keras.layers import Dense, Conv2D, MaxPool2D, BatchNormalization, Dropout, Flatten, LeakyReLU\n",
        "from tensorflow.keras.utils import to_categorical"
      ]
    },
    {
      "cell_type": "markdown",
      "metadata": {
        "id": "ucnevGLoyKf_"
      },
      "source": [
        "Let us check for the version of TensorFlow."
      ]
    },
    {
      "cell_type": "code",
      "execution_count": 3,
      "metadata": {
        "colab": {
          "base_uri": "https://localhost:8080/"
        },
        "id": "W5as47YxyJVk",
        "outputId": "9ad9b9c2-e4a6-413e-a3d0-83c37cb04581"
      },
      "outputs": [
        {
          "output_type": "stream",
          "name": "stdout",
          "text": [
            "2.8.0\n"
          ]
        }
      ],
      "source": [
        "print(tf.__version__)"
      ]
    },
    {
      "cell_type": "markdown",
      "metadata": {
        "id": "8lsux2ZwyTTR"
      },
      "source": [
        "## **Load the dataset**\n",
        "- Let us now load the dataset that is available as a .h5 file.\n",
        "- Split the data into train and the test dataset"
      ]
    },
    {
      "cell_type": "code",
      "execution_count": 4,
      "metadata": {
        "id": "BApX9qgNsqV0",
        "scrolled": true
      },
      "outputs": [],
      "source": [
        "import h5py\n",
        "\n",
        "# Open the file as read only\n",
        "# User can make changes in the path as required\n",
        "h5f = h5py.File('/content/drive/MyDrive/SVHN_single_grey1.h5', 'r')\n",
        "\n",
        "# Load the training and the test set\n",
        "X_train = h5f['X_train'][:]\n",
        "y_train = h5f['y_train'][:]\n",
        "X_test = h5f['X_test'][:]\n",
        "y_test = h5f['y_test'][:]\n",
        "\n",
        "\n",
        "# Close this file\n",
        "h5f.close()"
      ]
    },
    {
      "cell_type": "markdown",
      "metadata": {
        "id": "hVe0CYpUgj7w"
      },
      "source": [
        "Let's check the number of images in the training and testing data."
      ]
    },
    {
      "cell_type": "code",
      "execution_count": 5,
      "metadata": {
        "id": "y3lwKpOefkpA",
        "colab": {
          "base_uri": "https://localhost:8080/"
        },
        "outputId": "b332b1c2-dce4-41f1-c49e-7519902046a9"
      },
      "outputs": [
        {
          "output_type": "execute_result",
          "data": {
            "text/plain": [
              "(42000, 18000)"
            ]
          },
          "metadata": {},
          "execution_count": 5
        }
      ],
      "source": [
        "len(X_train), len(X_test)"
      ]
    },
    {
      "cell_type": "markdown",
      "metadata": {
        "id": "akTUOfLlgwoM"
      },
      "source": [
        "**Observations**\n",
        "- There are 42,000 images in the training data and 18,000 images in the testing data. "
      ]
    },
    {
      "cell_type": "markdown",
      "metadata": {
        "id": "kxODV6HKykuc"
      },
      "source": [
        "## **Visualizing images**\n",
        "- Use X_train to visualize the first 10 images\n",
        "- Use Y_train to print the first 10 labels"
      ]
    },
    {
      "cell_type": "markdown",
      "metadata": {
        "id": "Rn5IZYv-e2TC"
      },
      "source": [
        "#### **Question 1: Complete the below code to visualize the first 10 images from the training data (1 Mark)**"
      ]
    },
    {
      "cell_type": "code",
      "execution_count": 6,
      "metadata": {
        "colab": {
          "base_uri": "https://localhost:8080/",
          "height": 95
        },
        "id": "Bvsc8ytHsqWD",
        "outputId": "1aa3e79a-99e2-4923-f67c-946c23043ec3"
      },
      "outputs": [
        {
          "output_type": "display_data",
          "data": {
            "image/png": "[encoded data removed]",
            "text/plain": [
              "<Figure size 720x72 with 10 Axes>"
            ]
          },
          "metadata": {
            "needs_background": "light"
          }
        },
        {
          "output_type": "stream",
          "name": "stdout",
          "text": [
            "label for each of the above image: [2 6 7 4 4 0 3 0 7 3]\n"
          ]
        }
      ],
      "source": [
        "# visualizing the first 10 images in the dataset and their labels\n",
        "plt.figure(figsize=(10, 1))\n",
        "\n",
        "for i in range(10):\n",
        "    plt.subplot(1, 10, i+1)\n",
        "    plt.imshow(X_train[i], cmap=\"gray\") # write the function to visualize images\n",
        "    plt.axis('off')\n",
        "\n",
        "plt.show()\n",
        "print('label for each of the above image: %s' % (y_train[0:10]))"
      ]
    },
    {
      "cell_type": "markdown",
      "metadata": {
        "id": "kzoyeXHOy80N"
      },
      "source": [
        "## **Data Preparation**\n",
        "\n",
        "- Print the first image in the train image and figure out the shape of the images\n",
        "- Reshape the train and the test dataset to make them fit the first convolutional operation that we will create later. Figure out the required shape\n",
        "- Normalize the train and the test dataset by dividing by 255\n",
        "- Print the new shapes of the train and the test set\n",
        "- One-hot encode the target variable"
      ]
    },
    {
      "cell_type": "code",
      "execution_count": 7,
      "metadata": {
        "colab": {
          "base_uri": "https://localhost:8080/"
        },
        "id": "NqndzQXng9rL",
        "outputId": "84f91568-77cc-4573-894d-dd5cd8361c04"
      },
      "outputs": [
        {
          "output_type": "stream",
          "name": "stdout",
          "text": [
            "Shape: (32, 32)\n",
            "\n",
            "First image:\n",
            " [[ 33.0704  30.2601  26.852  ...  71.4471  58.2204  42.9939]\n",
            " [ 25.2283  25.5533  29.9765 ... 113.0209 103.3639  84.2949]\n",
            " [ 26.2775  22.6137  40.4763 ... 113.3028 121.775  115.4228]\n",
            " ...\n",
            " [ 28.5502  36.212   45.0801 ...  24.1359  25.0927  26.0603]\n",
            " [ 38.4352  26.4733  23.2717 ...  28.1094  29.4683  30.0661]\n",
            " [ 50.2984  26.0773  24.0389 ...  49.6682  50.853   53.0377]]\n"
          ]
        }
      ],
      "source": [
        "# Shape of the images and the first image\n",
        "\n",
        "print(\"Shape:\", X_train[0].shape)\n",
        "print()\n",
        "print(\"First image:\\n\", X_train[0])"
      ]
    },
    {
      "cell_type": "code",
      "execution_count": 8,
      "metadata": {
        "id": "D9YPwf9ysqWU"
      },
      "outputs": [],
      "source": [
        "# Reshaping the dataset to flatten them. Remember that we always have to give a 4D array as input to CNNs\n",
        "\n",
        "X_train = X_train.reshape(X_train.shape[0], 32,32,1)\n",
        "X_test = X_test.reshape(X_test.shape[0], 32,32,1)"
      ]
    },
    {
      "cell_type": "code",
      "execution_count": 9,
      "metadata": {
        "id": "q_yUUTp_mUzB"
      },
      "outputs": [],
      "source": [
        "# Normalize inputs from 0-255 to 0-1\n",
        "\n",
        "X_train = X_train / 255.0\n",
        "X_test = X_test / 255.0"
      ]
    },
    {
      "cell_type": "code",
      "execution_count": 10,
      "metadata": {
        "colab": {
          "base_uri": "https://localhost:8080/"
        },
        "id": "t7FSqOpamWkH",
        "outputId": "ccb2840b-a2af-44ec-c355-3d2de9999b7f"
      },
      "outputs": [
        {
          "output_type": "stream",
          "name": "stdout",
          "text": [
            "Training set: (42000, 32, 32, 1) (42000,)\n",
            "Test set: (18000, 32, 32, 1) (18000,)\n"
          ]
        }
      ],
      "source": [
        "# New shape \n",
        "\n",
        "print('Training set:', X_train.shape, y_train.shape)\n",
        "print('Test set:', X_test.shape, y_test.shape)"
      ]
    },
    {
      "cell_type": "markdown",
      "metadata": {
        "id": "YP92jacue2TE"
      },
      "source": [
        "#### **Question 2: One-hot encode the labels in the target variable y_train and y_test (2 Marks)**"
      ]
    },
    {
      "cell_type": "code",
      "execution_count": 11,
      "metadata": {
        "colab": {
          "base_uri": "https://localhost:8080/"
        },
        "id": "zL0lYER4sqWw",
        "outputId": "66fde378-3517-46e3-d63a-ec55052554b1"
      },
      "outputs": [
        {
          "output_type": "execute_result",
          "data": {
            "text/plain": [
              "array([[0., 1., 0., ..., 0., 0., 0.],\n",
              "       [0., 0., 0., ..., 1., 0., 0.],\n",
              "       [0., 0., 1., ..., 0., 0., 0.],\n",
              "       ...,\n",
              "       [0., 0., 0., ..., 1., 0., 0.],\n",
              "       [0., 0., 0., ..., 0., 0., 1.],\n",
              "       [0., 0., 1., ..., 0., 0., 0.]], dtype=float32)"
            ]
          },
          "metadata": {},
          "execution_count": 11
        }
      ],
      "source": [
        "#Write the function and appropriate variable name to one-hot encode the output\n",
        "\n",
        "y_train = tf.keras.utils.to_categorical(y_train)\n",
        "y_test = tf.keras.utils.to_categorical(y_test)\n",
        "\n",
        "#test labels\n",
        "y_test"
      ]
    },
    {
      "cell_type": "markdown",
      "metadata": {
        "id": "ViqPOTquCF76"
      },
      "source": [
        "- Notice that each entry of y_test is a one-hot encoded vector instead of a single label."
      ]
    },
    {
      "cell_type": "markdown",
      "metadata": {
        "id": "yH-gVrzuByNA"
      },
      "source": [
        "## **Model Building**\n",
        "\n",
        "Now, we have done data preprocessing, let's build a CNN model."
      ]
    },
    {
      "cell_type": "code",
      "execution_count": 12,
      "metadata": {
        "id": "eaGr-3Noe2TF"
      },
      "outputs": [],
      "source": [
        "#Fixing the seed for random number generators\n",
        "np.random.seed(42)\n",
        "import random\n",
        "random.seed(42)\n",
        "tf.random.set_seed(42)"
      ]
    },
    {
      "cell_type": "markdown",
      "metadata": {
        "id": "UJDUoaEj1d6e"
      },
      "source": [
        "### **Model Architecture**\n",
        "- Write a function that returns a sequential model with the following architecture\n",
        " - First Convolutional layer with **16 filters and kernel size of 3x3**. Use the **'same' padding** and provide an **apt input shape**\n",
        " - Add a **LeakyRelu layer** with the **slope equal to 0.1**\n",
        " - Second Convolutional layer with **32 filters and kernel size of 3x3 with 'same' padding**\n",
        " - Another **LeakyRelu** with the **slope equal to 0.1**\n",
        " - A **max-pooling layer** with a **pool size of 2x2**\n",
        " - **Flatten** the output from the previous layer\n",
        " - Add a **dense layer with 32 nodes**\n",
        " - Add a **LeakyRelu layer with slope equal to 0.1**\n",
        " - Add the final **output layer with nodes equal to the number of classes** and **softmax activation**\n",
        " - Compile the model with the **categorical_crossentropy loss, adam optimizers (learning_rate = 0.001), and accuracy metric**. Do not fit the model here, just return the compiled model\n",
        "- Call the function and store the model in a new variable\n",
        "- Print the summary of the model.\n",
        "- Fit the model on the train data with a **validation split of 0.2, batch size = 32, verbose = 1, and 20 epochs**. Store the model building history to use later for visualization."
      ]
    },
    {
      "cell_type": "markdown",
      "metadata": {
        "id": "Uw8pZcNwe2TG"
      },
      "source": [
        "#### **Question 3: Build and train a CNN model as per the above mentioned architecture (10 Marks)**"
      ]
    },
    {
      "cell_type": "code",
      "execution_count": 13,
      "metadata": {
        "id": "Cmi81Gr5sqW-"
      },
      "outputs": [],
      "source": [
        "# Import loss and optimizer modules\n",
        "from tensorflow.keras import losses\n",
        "from tensorflow.keras import optimizers\n",
        "\n",
        "# Define the function\n",
        "def cnn_model_1():\n",
        "    model = Sequential() \n",
        "\n",
        "# Add layers as per the architecture mentioned above in the same sequence\n",
        "    model.add(Conv2D(filters=16, kernel_size=(3, 3), activation='relu', padding='same',\n",
        "    data_format='channels_last', input_shape=(32,32,1))) #First Convolutional layer with 16 filters and kernel size of 3x3. Use the 'same' padding and provide an apt input shape\n",
        "    model.add(LeakyReLU(alpha= 0.1)) #Add a LeakyRelu layer with the slope equal to 0.1\n",
        "    model.add(Conv2D(filters=32, kernel_size=(3, 3), activation='relu', padding='same', data_format='channels_last')) #Second Convolutional layer with 32 filters and kernel size of 3x3 with 'same' padding\n",
        "    model.add(LeakyReLU(alpha=0.1)) #Another LeakyRelu with the slope equal to 0.1\n",
        "    model.add(MaxPool2D(pool_size=(2, 2))) #A max-pooling layer with a pool size of 2x2\n",
        "    model.add(Flatten()) #Flatten the output from the previous layer\n",
        "    model.add(Dense(32)) #Add a dense layer with 32 nodes\n",
        "    model.add(LeakyReLU(alpha=0.1)) #Add a LeakyRelu layer with slope equal to 0.1\n",
        "    model.add(Dense(10, activation='softmax')) #Add the final output layer with nodes equal to the number of classes and softmax activation\n",
        "    \n",
        "# Declare adam optimizer with learning rate of 0.001 \n",
        "    adam = optimizers.Adam(learning_rate=0.001) # adam optimizers (learning_rate = 0.001)\n",
        "    \n",
        "# Compile the model\n",
        "    model.compile(optimizer='adam', loss='categorical_crossentropy',  metrics = ['accuracy']) #Compile the model with the categorical_crossentropy loss, and accuracy metric. \n",
        "    \n",
        "    return model"
      ]
    },
    {
      "cell_type": "code",
      "execution_count": 14,
      "metadata": {
        "id": "bGCUI_xsImnH"
      },
      "outputs": [],
      "source": [
        "#Build the model\n",
        "model_1 = cnn_model_1() #Call the function and store the model in a new variable"
      ]
    },
    {
      "cell_type": "code",
      "execution_count": 15,
      "metadata": {
        "id": "ckJsLdmdQadZ",
        "colab": {
          "base_uri": "https://localhost:8080/"
        },
        "outputId": "8f6b50d4-d01d-4ec3-a711-49bb7e3015f2"
      },
      "outputs": [
        {
          "output_type": "stream",
          "name": "stdout",
          "text": [
            "Model: \"sequential\"\n",
            "_________________________________________________________________\n",
            " Layer (type)                Output Shape              Param #   \n",
            "=================================================================\n",
            " conv2d (Conv2D)             (None, 32, 32, 16)        160       \n",
            "                                                                 \n",
            " leaky_re_lu (LeakyReLU)     (None, 32, 32, 16)        0         \n",
            "                                                                 \n",
            " conv2d_1 (Conv2D)           (None, 32, 32, 32)        4640      \n",
            "                                                                 \n",
            " leaky_re_lu_1 (LeakyReLU)   (None, 32, 32, 32)        0         \n",
            "                                                                 \n",
            " max_pooling2d (MaxPooling2D  (None, 16, 16, 32)       0         \n",
            " )                                                               \n",
            "                                                                 \n",
            " flatten (Flatten)           (None, 8192)              0         \n",
            "                                                                 \n",
            " dense (Dense)               (None, 32)                262176    \n",
            "                                                                 \n",
            " leaky_re_lu_2 (LeakyReLU)   (None, 32)                0         \n",
            "                                                                 \n",
            " dense_1 (Dense)             (None, 10)                330       \n",
            "                                                                 \n",
            "=================================================================\n",
            "Total params: 267,306\n",
            "Trainable params: 267,306\n",
            "Non-trainable params: 0\n",
            "_________________________________________________________________\n"
          ]
        }
      ],
      "source": [
        "#Print the model summary\n",
        "model_1.summary() #Print the summary of the model."
      ]
    },
    {
      "cell_type": "code",
      "execution_count": 16,
      "metadata": {
        "id": "3Fy3Dif_zcCk",
        "colab": {
          "base_uri": "https://localhost:8080/"
        },
        "outputId": "d4c1d3a4-1ce5-4f58-884e-a8150c3c27d9"
      },
      "outputs": [
        {
          "output_type": "stream",
          "name": "stdout",
          "text": [
            "Epoch 1/20\n",
            "1050/1050 [==============================] - 71s 66ms/step - loss: 1.3062 - accuracy: 0.5758 - val_loss: 0.7647 - val_accuracy: 0.7775\n",
            "Epoch 2/20\n",
            "1050/1050 [==============================] - 65s 62ms/step - loss: 0.6415 - accuracy: 0.8121 - val_loss: 0.5871 - val_accuracy: 0.8285\n",
            "Epoch 3/20\n",
            "1050/1050 [==============================] - 65s 62ms/step - loss: 0.5178 - accuracy: 0.8460 - val_loss: 0.5715 - val_accuracy: 0.8298\n",
            "Epoch 4/20\n",
            "1050/1050 [==============================] - 66s 63ms/step - loss: 0.4570 - accuracy: 0.8644 - val_loss: 0.4916 - val_accuracy: 0.8575\n",
            "Epoch 5/20\n",
            "1050/1050 [==============================] - 66s 63ms/step - loss: 0.4107 - accuracy: 0.8757 - val_loss: 0.5126 - val_accuracy: 0.8485\n",
            "Epoch 6/20\n",
            "1050/1050 [==============================] - 67s 64ms/step - loss: 0.3693 - accuracy: 0.8888 - val_loss: 0.4990 - val_accuracy: 0.8542\n",
            "Epoch 7/20\n",
            "1050/1050 [==============================] - 66s 63ms/step - loss: 0.3342 - accuracy: 0.8988 - val_loss: 0.4789 - val_accuracy: 0.8619\n",
            "Epoch 8/20\n",
            "1050/1050 [==============================] - 66s 62ms/step - loss: 0.3014 - accuracy: 0.9092 - val_loss: 0.4665 - val_accuracy: 0.8650\n",
            "Epoch 9/20\n",
            "1050/1050 [==============================] - 66s 63ms/step - loss: 0.2723 - accuracy: 0.9167 - val_loss: 0.4753 - val_accuracy: 0.8688\n",
            "Epoch 10/20\n",
            "1050/1050 [==============================] - 66s 63ms/step - loss: 0.2477 - accuracy: 0.9258 - val_loss: 0.4894 - val_accuracy: 0.8737\n",
            "Epoch 11/20\n",
            "1050/1050 [==============================] - 65s 62ms/step - loss: 0.2222 - accuracy: 0.9313 - val_loss: 0.5887 - val_accuracy: 0.8557\n",
            "Epoch 12/20\n",
            "1050/1050 [==============================] - 66s 63ms/step - loss: 0.2052 - accuracy: 0.9364 - val_loss: 0.5385 - val_accuracy: 0.8644\n",
            "Epoch 13/20\n",
            "1050/1050 [==============================] - 66s 63ms/step - loss: 0.1836 - accuracy: 0.9441 - val_loss: 0.5703 - val_accuracy: 0.8586\n",
            "Epoch 14/20\n",
            "1050/1050 [==============================] - 67s 63ms/step - loss: 0.1689 - accuracy: 0.9466 - val_loss: 0.5756 - val_accuracy: 0.8601\n",
            "Epoch 15/20\n",
            "1050/1050 [==============================] - 66s 63ms/step - loss: 0.1551 - accuracy: 0.9515 - val_loss: 0.6038 - val_accuracy: 0.8631\n",
            "Epoch 16/20\n",
            "1050/1050 [==============================] - 66s 63ms/step - loss: 0.1381 - accuracy: 0.9566 - val_loss: 0.6199 - val_accuracy: 0.8613\n",
            "Epoch 17/20\n",
            "1050/1050 [==============================] - 66s 63ms/step - loss: 0.1240 - accuracy: 0.9606 - val_loss: 0.6613 - val_accuracy: 0.8602\n",
            "Epoch 18/20\n",
            "1050/1050 [==============================] - 66s 63ms/step - loss: 0.1163 - accuracy: 0.9629 - val_loss: 0.6788 - val_accuracy: 0.8544\n",
            "Epoch 19/20\n",
            "1050/1050 [==============================] - 67s 63ms/step - loss: 0.1066 - accuracy: 0.9669 - val_loss: 0.7282 - val_accuracy: 0.8590\n",
            "Epoch 20/20\n",
            "1050/1050 [==============================] - 66s 63ms/step - loss: 0.0986 - accuracy: 0.9686 - val_loss: 0.7762 - val_accuracy: 0.8565\n"
          ]
        }
      ],
      "source": [
        "# Fit the model\n",
        "history_model_1 = model_1.fit(X_train, y_train, validation_split=0.2, verbose = 1, batch_size=32, epochs = 20) \n",
        "#Fit the model on the train data with a validation split of 0.2, batch size = 32, verbose = 1, and 20 epochs. "
      ]
    },
    {
      "cell_type": "markdown",
      "metadata": {
        "id": "tKOckG-KPyLg"
      },
      "source": [
        "### **Plotting the validation and training accuracies**"
      ]
    },
    {
      "cell_type": "markdown",
      "metadata": {
        "id": "sVyQ9Gpge2TI"
      },
      "source": [
        "#### **Question 4: Write your observations on the below plot (2 Marks)**"
      ]
    },
    {
      "cell_type": "code",
      "execution_count": 17,
      "metadata": {
        "colab": {
          "base_uri": "https://localhost:8080/",
          "height": 497
        },
        "id": "lt77zgGMP4yw",
        "outputId": "b0b08424-b1c5-4f31-9679-59ad584ba392"
      },
      "outputs": [
        {
          "output_type": "display_data",
          "data": {
            "image/png": "[encoded data removed]",
            "text/plain": [
              "<Figure size 576x576 with 1 Axes>"
            ]
          },
          "metadata": {
            "needs_background": "light"
          }
        }
      ],
      "source": [
        "# plotting the accuracies\n",
        "\n",
        "dict_hist = history_model_1.history\n",
        "list_ep = [i for i in range(1,21)]\n",
        "\n",
        "plt.figure(figsize = (8,8))\n",
        "plt.plot(list_ep,dict_hist['accuracy'],ls = '--', label = 'accuracy')\n",
        "plt.plot(list_ep,dict_hist['val_accuracy'],ls = '--', label = 'val_accuracy')\n",
        "plt.ylabel('Accuracy')\n",
        "plt.xlabel('Epochs')\n",
        "plt.legend()\n",
        "plt.show()"
      ]
    },
    {
      "cell_type": "markdown",
      "metadata": {
        "id": "pGBbQpLONX7k"
      },
      "source": [
        "**Observations:__________**\n",
        "\n",
        " * Val_accuracy of the batch of testing data has a different behaviour than the accuracy of the training data\n",
        " * Val_accuracy is more linear throughout the epochs"
      ]
    },
    {
      "cell_type": "markdown",
      "metadata": {
        "id": "z0qgLMBZm5-K"
      },
      "source": [
        "Let's build another model and see if we can get a better model with generalized performance.\n",
        "\n",
        "First, we need to clear the previous model's history from the keras backend. Also, let's fix the seed again after clearing the backend."
      ]
    },
    {
      "cell_type": "code",
      "execution_count": 18,
      "metadata": {
        "id": "y98BpLxsok_H"
      },
      "outputs": [],
      "source": [
        "#Clearing backend\n",
        "from tensorflow.keras import backend\n",
        "backend.clear_session()"
      ]
    },
    {
      "cell_type": "code",
      "execution_count": 19,
      "metadata": {
        "id": "HbKi93HTolGW"
      },
      "outputs": [],
      "source": [
        "#Fixing the seed for random number generators\n",
        "np.random.seed(42)\n",
        "import random\n",
        "random.seed(42)\n",
        "tf.random.set_seed(42)"
      ]
    },
    {
      "cell_type": "markdown",
      "metadata": {
        "id": "lT6o3TIKuCtk"
      },
      "source": [
        "### **Second Model Architecture**\n",
        "- Write a function that returns a sequential model with the following architecture\n",
        " - First Convolutional layer with **16 filters and kernel size of 3x3**. Use the **'same' padding** and provide an **apt input shape**\n",
        " - Add a **LeakyRelu layer** with the **slope equal to 0.1**\n",
        " - Second Convolutional layer with **32 filters and kernel size of 3x3 with 'same' padding**\n",
        " - Add **LeakyRelu** with the **slope equal to 0.1**\n",
        " - Add a **max-pooling layer** with a **pool size of 2x2**\n",
        " - Add a **BatchNormalization layer**\n",
        " - Third Convolutional layer with **32 filters and kernel size of 3x3 with 'same' padding**\n",
        " - Add a **LeakyRelu layer with slope equal to 0.1**\n",
        " - Fourth Convolutional layer **64 filters and kernel size of 3x3 with 'same' padding** \n",
        " - Add a **LeakyRelu layer with slope equal to 0.1**\n",
        " - Add a **max-pooling layer** with a **pool size of 2x2**\n",
        " - Add a **BatchNormalization layer**\n",
        " - **Flatten** the output from the previous layer\n",
        " - Add a **dense layer with 32 nodes**\n",
        " - Add a **LeakyRelu layer with slope equal to 0.1**\n",
        " - Add a **dropout layer with rate equal to 0.5**\n",
        " - Add the final **output layer with nodes equal to the number of classes** and **softmax activation**\n",
        " - Compile the model with the **categorical_crossentropy loss, adam optimizers (learning_rate = 0.001), and accuracy metric**. Do not fit the model here, just return the compiled model\n",
        "- Call the function and store the model in a new variable\n",
        "- Print the summary of the model.\n",
        "- Fit the model on the train data with a **validation split of 0.2, batch size = 128, verbose = 1, and 30 epochs**. Store the model building history to use later for visualization."
      ]
    },
    {
      "cell_type": "markdown",
      "metadata": {
        "id": "Sr-bwBT2e2TJ"
      },
      "source": [
        "#### **Question 5: Build and train the second CNN model as per the above mentioned architecture (10 Marks)**"
      ]
    },
    {
      "cell_type": "code",
      "execution_count": 20,
      "metadata": {
        "id": "EEPYLFIPnSDP"
      },
      "outputs": [],
      "source": [
        "#Define the function\n",
        "def cnn_model_2():\n",
        "    model = Sequential() \n",
        "    model.add(Conv2D(filters=16, kernel_size=(3, 3), activation='relu', padding='same',\n",
        "    data_format='channels_last', input_shape=(32,32,1))) #First Convolutional layer with 16 filters and kernel size of 3x3. Use the 'same' padding and provide an apt input shape\n",
        "    model.add(LeakyReLU(alpha= 0.1)) #Add a LeakyRelu layer with the slope equal to 0.1\n",
        "    model.add(Conv2D(filters=32, kernel_size=(3, 3), activation='relu', padding='same', data_format='channels_last')) #Second Convolutional layer with 32 filters and kernel size of 3x3 with 'same' padding\n",
        "    model.add(LeakyReLU(alpha=0.1)) #Another LeakyRelu with the slope equal to 0.1\n",
        "    model.add(MaxPool2D(pool_size=(2, 2))) #A max-pooling layer with a pool size of 2x2\n",
        "    model.add(BatchNormalization()) #Add a BatchNormalization layer\n",
        "    model.add(Conv2D(filters=32, kernel_size=(3, 3), activation='relu', padding='same', data_format='channels_last')) #Third Convolutional layer with 32 filters and kernel size of 3x3 with 'same' padding\n",
        "    model.add(LeakyReLU(alpha=0.1)) #Another LeakyRelu with the slope equal to 0.1   \n",
        "    model.add(Conv2D(filters=64, kernel_size=(3, 3), activation='relu', padding='same', data_format='channels_last')) #Fourth Convolutional layer with 32 filters and kernel size of 3x3 with 'same' padding\n",
        "    model.add(LeakyReLU(alpha=0.1)) #Another LeakyRelu with the slope equal to 0.1   \n",
        "    model.add(MaxPool2D(pool_size=(2, 2))) #A max-pooling layer with a pool size of 2x2\n",
        "    model.add(BatchNormalization()) #Add a BatchNormalization layer\n",
        "    model.add(Flatten()) #Flatten the output from the previous layer\n",
        "    model.add(Dense(32)) #Add a dense layer with 32 nodes\n",
        "    model.add(LeakyReLU(alpha=0.1)) #Add a LeakyRelu layer with slope equal to 0.1\n",
        "    model.add(Dropout(0.5)) #Add a dropout layer with rate equal to 0.5\n",
        "    model.add(Dense(10, activation='softmax')) #Add the final output layer with nodes equal to the number of classes and softmax activation\n",
        "\n",
        "    #declare adam optimizer with learning rate of 0.001 \n",
        "    adam = optimizers.Adam(learning_rate=0.001) # adam optimizers (learning_rate = 0.001)\n",
        "    \n",
        "    #compile the model\n",
        "    model.compile(optimizer='adam', loss='categorical_crossentropy',  metrics = ['accuracy']) #Compile the model with the categorical_crossentropy loss, and accuracy metric.\n",
        "    \n",
        "    return model"
      ]
    },
    {
      "cell_type": "code",
      "execution_count": 21,
      "metadata": {
        "id": "AKjDY4plnSFl"
      },
      "outputs": [],
      "source": [
        "# Build the model\n",
        "model_2 = cnn_model_2() #Call the function and store the model in a new variable"
      ]
    },
    {
      "cell_type": "code",
      "execution_count": 22,
      "metadata": {
        "id": "gz_6SVrU2swZ",
        "colab": {
          "base_uri": "https://localhost:8080/"
        },
        "outputId": "63d3493d-270f-495e-8a90-f565aa2ebd50"
      },
      "outputs": [
        {
          "output_type": "stream",
          "name": "stdout",
          "text": [
            "Model: \"sequential\"\n",
            "_________________________________________________________________\n",
            " Layer (type)                Output Shape              Param #   \n",
            "=================================================================\n",
            " conv2d (Conv2D)             (None, 32, 32, 16)        160       \n",
            "                                                                 \n",
            " leaky_re_lu (LeakyReLU)     (None, 32, 32, 16)        0         \n",
            "                                                                 \n",
            " conv2d_1 (Conv2D)           (None, 32, 32, 32)        4640      \n",
            "                                                                 \n",
            " leaky_re_lu_1 (LeakyReLU)   (None, 32, 32, 32)        0         \n",
            "                                                                 \n",
            " max_pooling2d (MaxPooling2D  (None, 16, 16, 32)       0         \n",
            " )                                                               \n",
            "                                                                 \n",
            " batch_normalization (BatchN  (None, 16, 16, 32)       128       \n",
            " ormalization)                                                   \n",
            "                                                                 \n",
            " conv2d_2 (Conv2D)           (None, 16, 16, 32)        9248      \n",
            "                                                                 \n",
            " leaky_re_lu_2 (LeakyReLU)   (None, 16, 16, 32)        0         \n",
            "                                                                 \n",
            " conv2d_3 (Conv2D)           (None, 16, 16, 64)        18496     \n",
            "                                                                 \n",
            " leaky_re_lu_3 (LeakyReLU)   (None, 16, 16, 64)        0         \n",
            "                                                                 \n",
            " max_pooling2d_1 (MaxPooling  (None, 8, 8, 64)         0         \n",
            " 2D)                                                             \n",
            "                                                                 \n",
            " batch_normalization_1 (Batc  (None, 8, 8, 64)         256       \n",
            " hNormalization)                                                 \n",
            "                                                                 \n",
            " flatten (Flatten)           (None, 4096)              0         \n",
            "                                                                 \n",
            " dense (Dense)               (None, 32)                131104    \n",
            "                                                                 \n",
            " leaky_re_lu_4 (LeakyReLU)   (None, 32)                0         \n",
            "                                                                 \n",
            " dropout (Dropout)           (None, 32)                0         \n",
            "                                                                 \n",
            " dense_1 (Dense)             (None, 10)                330       \n",
            "                                                                 \n",
            "=================================================================\n",
            "Total params: 164,362\n",
            "Trainable params: 164,170\n",
            "Non-trainable params: 192\n",
            "_________________________________________________________________\n"
          ]
        }
      ],
      "source": [
        "#Print the summary\n",
        "model_2.summary() #Print the summary of the model"
      ]
    },
    {
      "cell_type": "code",
      "execution_count": 23,
      "metadata": {
        "id": "IQ0Sc4R-y-uu",
        "colab": {
          "base_uri": "https://localhost:8080/"
        },
        "outputId": "d3417844-e76b-4f2e-8aeb-85c2e2cdc64e"
      },
      "outputs": [
        {
          "output_type": "stream",
          "name": "stdout",
          "text": [
            "Epoch 1/30\n",
            "263/263 [==============================] - 106s 400ms/step - loss: 1.4678 - accuracy: 0.5000 - val_loss: 2.9961 - val_accuracy: 0.2298\n",
            "Epoch 2/30\n",
            "263/263 [==============================] - 105s 401ms/step - loss: 0.6745 - accuracy: 0.7908 - val_loss: 0.5967 - val_accuracy: 0.8351\n",
            "Epoch 3/30\n",
            "263/263 [==============================] - 105s 398ms/step - loss: 0.5416 - accuracy: 0.8351 - val_loss: 0.4802 - val_accuracy: 0.8618\n",
            "Epoch 4/30\n",
            "263/263 [==============================] - 104s 396ms/step - loss: 0.4717 - accuracy: 0.8559 - val_loss: 0.3950 - val_accuracy: 0.8873\n",
            "Epoch 5/30\n",
            "263/263 [==============================] - 105s 400ms/step - loss: 0.4252 - accuracy: 0.8704 - val_loss: 0.4489 - val_accuracy: 0.8658\n",
            "Epoch 6/30\n",
            "263/263 [==============================] - 105s 398ms/step - loss: 0.3811 - accuracy: 0.8840 - val_loss: 0.4675 - val_accuracy: 0.8651\n",
            "Epoch 7/30\n",
            "263/263 [==============================] - 105s 399ms/step - loss: 0.3539 - accuracy: 0.8923 - val_loss: 0.4193 - val_accuracy: 0.8798\n",
            "Epoch 8/30\n",
            "263/263 [==============================] - 105s 400ms/step - loss: 0.3243 - accuracy: 0.8973 - val_loss: 0.3986 - val_accuracy: 0.8931\n",
            "Epoch 9/30\n",
            "263/263 [==============================] - 105s 400ms/step - loss: 0.2988 - accuracy: 0.9062 - val_loss: 0.4129 - val_accuracy: 0.8879\n",
            "Epoch 10/30\n",
            "263/263 [==============================] - 105s 398ms/step - loss: 0.2890 - accuracy: 0.9103 - val_loss: 0.4538 - val_accuracy: 0.8848\n",
            "Epoch 11/30\n",
            "263/263 [==============================] - 105s 399ms/step - loss: 0.2775 - accuracy: 0.9119 - val_loss: 0.4021 - val_accuracy: 0.8974\n",
            "Epoch 12/30\n",
            "263/263 [==============================] - 105s 399ms/step - loss: 0.2455 - accuracy: 0.9234 - val_loss: 0.3827 - val_accuracy: 0.9051\n",
            "Epoch 13/30\n",
            "263/263 [==============================] - 105s 401ms/step - loss: 0.2400 - accuracy: 0.9242 - val_loss: 0.3747 - val_accuracy: 0.9082\n",
            "Epoch 14/30\n",
            "263/263 [==============================] - 105s 398ms/step - loss: 0.2265 - accuracy: 0.9279 - val_loss: 0.4267 - val_accuracy: 0.9033\n",
            "Epoch 15/30\n",
            "263/263 [==============================] - 104s 397ms/step - loss: 0.2145 - accuracy: 0.9306 - val_loss: 0.4085 - val_accuracy: 0.9026\n",
            "Epoch 16/30\n",
            "263/263 [==============================] - 105s 398ms/step - loss: 0.2033 - accuracy: 0.9342 - val_loss: 0.4167 - val_accuracy: 0.9032\n",
            "Epoch 17/30\n",
            "263/263 [==============================] - 104s 397ms/step - loss: 0.2015 - accuracy: 0.9356 - val_loss: 0.3803 - val_accuracy: 0.9093\n",
            "Epoch 18/30\n",
            "263/263 [==============================] - 105s 398ms/step - loss: 0.1888 - accuracy: 0.9374 - val_loss: 0.4310 - val_accuracy: 0.9058\n",
            "Epoch 19/30\n",
            "263/263 [==============================] - 104s 397ms/step - loss: 0.1870 - accuracy: 0.9395 - val_loss: 0.5126 - val_accuracy: 0.9002\n",
            "Epoch 20/30\n",
            "263/263 [==============================] - 104s 397ms/step - loss: 0.1707 - accuracy: 0.9441 - val_loss: 0.4647 - val_accuracy: 0.9039\n",
            "Epoch 21/30\n",
            "263/263 [==============================] - 105s 399ms/step - loss: 0.1691 - accuracy: 0.9441 - val_loss: 0.4668 - val_accuracy: 0.9093\n",
            "Epoch 22/30\n",
            "263/263 [==============================] - 105s 398ms/step - loss: 0.1606 - accuracy: 0.9466 - val_loss: 0.4946 - val_accuracy: 0.9023\n",
            "Epoch 23/30\n",
            "263/263 [==============================] - 106s 404ms/step - loss: 0.1572 - accuracy: 0.9468 - val_loss: 0.4866 - val_accuracy: 0.8948\n",
            "Epoch 24/30\n",
            "263/263 [==============================] - 105s 397ms/step - loss: 0.1567 - accuracy: 0.9478 - val_loss: 0.3997 - val_accuracy: 0.9067\n",
            "Epoch 25/30\n",
            "263/263 [==============================] - 104s 397ms/step - loss: 0.1473 - accuracy: 0.9512 - val_loss: 0.5474 - val_accuracy: 0.8883\n",
            "Epoch 26/30\n",
            "263/263 [==============================] - 104s 397ms/step - loss: 0.1406 - accuracy: 0.9522 - val_loss: 0.4832 - val_accuracy: 0.9060\n",
            "Epoch 27/30\n",
            "263/263 [==============================] - 104s 397ms/step - loss: 0.1409 - accuracy: 0.9534 - val_loss: 0.4709 - val_accuracy: 0.9139\n",
            "Epoch 28/30\n",
            "263/263 [==============================] - 104s 397ms/step - loss: 0.1339 - accuracy: 0.9565 - val_loss: 0.5079 - val_accuracy: 0.9089\n",
            "Epoch 29/30\n",
            "263/263 [==============================] - 106s 402ms/step - loss: 0.1359 - accuracy: 0.9563 - val_loss: 0.5433 - val_accuracy: 0.9048\n",
            "Epoch 30/30\n",
            "263/263 [==============================] - 105s 398ms/step - loss: 0.1327 - accuracy: 0.9555 - val_loss: 0.4998 - val_accuracy: 0.9027\n"
          ]
        }
      ],
      "source": [
        "# Fit the model\n",
        "history_model_2 = model_2.fit(X_train, y_train, validation_split=0.2, verbose = 1, batch_size=128, epochs = 30) \n",
        "#Fit the model on the train data with a validation split of 0.2, batch size = 128, verbose = 1, and 30 epochs. "
      ]
    },
    {
      "cell_type": "markdown",
      "metadata": {
        "id": "0_f1EXmTe2TK"
      },
      "source": [
        "### **Plotting the validation and training accuracies**"
      ]
    },
    {
      "cell_type": "markdown",
      "metadata": {
        "id": "aC5UbsqXe2TK"
      },
      "source": [
        "#### **Question 6: Write your observations on the below plot (2 Marks)**"
      ]
    },
    {
      "cell_type": "code",
      "execution_count": 24,
      "metadata": {
        "colab": {
          "base_uri": "https://localhost:8080/",
          "height": 497
        },
        "id": "01ig6BrF1KVy",
        "outputId": "a9b4d031-25ff-4028-d609-05284d748570"
      },
      "outputs": [
        {
          "output_type": "display_data",
          "data": {
            "image/png": "[encoded data removed]",
            "text/plain": [
              "<Figure size 576x576 with 1 Axes>"
            ]
          },
          "metadata": {
            "needs_background": "light"
          }
        }
      ],
      "source": [
        "# plotting the accuracies\n",
        "\n",
        "dict_hist = history_model_2.history\n",
        "list_ep = [i for i in range(1,31)]\n",
        "\n",
        "plt.figure(figsize = (8,8))\n",
        "plt.plot(list_ep,dict_hist['accuracy'],ls = '--', label = 'accuracy')\n",
        "plt.plot(list_ep,dict_hist['val_accuracy'],ls = '--', label = 'val_accuracy')\n",
        "plt.ylabel('Accuracy')\n",
        "plt.xlabel('Epochs')\n",
        "plt.legend()\n",
        "plt.show()"
      ]
    },
    {
      "cell_type": "markdown",
      "metadata": {
        "id": "VPW1LlD61RDn"
      },
      "source": [
        "**Observations:________**\n",
        "\n",
        "* After adding more layers and normalization to the model, val accuracy and accuracy are behaving in a more similar way"
      ]
    },
    {
      "cell_type": "markdown",
      "metadata": {
        "id": "8kuXx9Bvu00f"
      },
      "source": [
        "## **Predictions on the test data**\n",
        "\n",
        "- Make predictions on the test set using the second model\n",
        "- Print the obtained results using the classification report and the confusion matrix\n",
        "- Final observations from the obtained results"
      ]
    },
    {
      "cell_type": "markdown",
      "metadata": {
        "id": "yfZwC9OUe2TL"
      },
      "source": [
        "#### **Question 7: Make predictions on the test data using the second model (1 Mark)**"
      ]
    },
    {
      "cell_type": "code",
      "execution_count": 25,
      "metadata": {
        "id": "xbWMEtTj5Ad0"
      },
      "outputs": [],
      "source": [
        "#Make prediction on the test data using model_2 \n",
        "test_pred = model_2.predict(X_test)\n",
        "\n",
        "test_pred = np.argmax(test_pred, axis=-1)"
      ]
    },
    {
      "cell_type": "markdown",
      "metadata": {
        "id": "i3li8Ib08yts"
      },
      "source": [
        "**Note:** Earlier, we noticed that each entry of the test data is a one-hot encoded vector but to print the classification report and confusion matrix, we must convert each entry of y_test to a single label."
      ]
    },
    {
      "cell_type": "code",
      "execution_count": 26,
      "metadata": {
        "id": "NByu7uAQ8x9P"
      },
      "outputs": [],
      "source": [
        "#Converting each entry to single label from one-hot encoded vector\n",
        "y_test = np.argmax(y_test, axis=-1)"
      ]
    },
    {
      "cell_type": "markdown",
      "metadata": {
        "id": "yHDUEma0e2TM"
      },
      "source": [
        "#### **Question 8: Write your final observations on the performance of the model on the test data (2 Marks)**"
      ]
    },
    {
      "cell_type": "code",
      "execution_count": 27,
      "metadata": {
        "colab": {
          "base_uri": "https://localhost:8080/",
          "height": 629
        },
        "id": "xRddeJ-3EHT1",
        "outputId": "e84da404-d850-4514-a33a-4830d2c01fa2"
      },
      "outputs": [
        {
          "output_type": "stream",
          "name": "stdout",
          "text": [
            "              precision    recall  f1-score   support\n",
            "\n",
            "           0       0.95      0.92      0.93      1814\n",
            "           1       0.92      0.88      0.90      1828\n",
            "           2       0.90      0.93      0.91      1803\n",
            "           3       0.85      0.90      0.87      1719\n",
            "           4       0.89      0.94      0.91      1812\n",
            "           5       0.88      0.91      0.90      1768\n",
            "           6       0.89      0.89      0.89      1832\n",
            "           7       0.94      0.92      0.93      1808\n",
            "           8       0.92      0.87      0.90      1812\n",
            "           9       0.90      0.90      0.90      1804\n",
            "\n",
            "    accuracy                           0.90     18000\n",
            "   macro avg       0.91      0.90      0.90     18000\n",
            "weighted avg       0.91      0.90      0.90     18000\n",
            "\n"
          ]
        },
        {
          "output_type": "display_data",
          "data": {
            "image/png": "[encoded data removed]",
            "text/plain": [
              "<Figure size 576x360 with 2 Axes>"
            ]
          },
          "metadata": {
            "needs_background": "light"
          }
        }
      ],
      "source": [
        "#importing required functions\n",
        "from sklearn.metrics import classification_report\n",
        "from sklearn.metrics import confusion_matrix\n",
        "\n",
        "#Printing the classification report\n",
        "print(classification_report(y_test, test_pred))\n",
        "\n",
        "#Plotting the heatmap using confusion matrix\n",
        "cm = confusion_matrix(y_test, test_pred)\n",
        "plt.figure(figsize=(8,5))\n",
        "sns.heatmap(cm, annot=True,  fmt='.0f')\n",
        "plt.ylabel('Actual')\n",
        "plt.xlabel('Predicted')\n",
        "plt.show()"
      ]
    },
    {
      "cell_type": "markdown",
      "metadata": {
        "id": "DjErl4GA2u9s"
      },
      "source": [
        "#### **Observations:_________**\n",
        "\n",
        "From the results we can see that 10 images were chosen to run the analysis. The number of each image would show the actual and predicted label of that image and the probability of the predicted class. Based on this, the results generated are the following:\n",
        "\n",
        "Accuracy level is 90% when using CNN\n",
        "Precision: as it represents ratio between true positives versus all positives, in this case it for macro and weighted are 91%. This means that images are allocated 91% as positives and being true positives indeed.\n",
        "Recall: has a same value, 90% which reinforces the accuracy result\n",
        "F1-score: based on precision and recall as it considers them it is expected to have 90%\n",
        "\n",
        "\n",
        "Distribution on accuracy seems to be better allocated when using CNN model vs ANN. With ANN the accuracy was 78% while with CNN it increased 12 percentual points.\n",
        "\n",
        "Also, it is less often when we can see that it has mislabelled other classes which makes it more reliable."
      ]
    },
    {
      "cell_type": "code",
      "source": [
        ""
      ],
      "metadata": {
        "id": "tkp-Y3s2MZnP"
      },
      "execution_count": null,
      "outputs": []
    }
  ],
  "metadata": {
    "accelerator": "GPU",
    "colab": {
      "collapsed_sections": [],
      "name": "CNN_Project_Learner_Notebook_SVHN.ipynb",
      "provenance": []
    },
    "kernelspec": {
      "display_name": "Python 3 (ipykernel)",
      "language": "python",
      "name": "python3"
    },
    "language_info": {
      "codemirror_mode": {
        "name": "ipython",
        "version": 3
      },
      "file_extension": ".py",
      "mimetype": "text/x-python",
      "name": "python",
      "nbconvert_exporter": "python",
      "pygments_lexer": "ipython3",
      "version": "3.9.7"
    }
  },
  "nbformat": 4,
  "nbformat_minor": 0
}